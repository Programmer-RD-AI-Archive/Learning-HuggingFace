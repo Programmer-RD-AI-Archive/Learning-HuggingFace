


from transformers import pipeline


classifier = pipeline("sentiment-analysis")


classifier("I've been waiting for a HuggingFace Course my whole life")


classifier([
    "I've been waiting for a HuggingFace Course my whole life",
    "I hate this so much!"
])


classifier = pipeline('zero-shot-classification')
classifier(
    "This is a course about the Transformers library",
    candidate_labels=['education', 'politics', 'buisness']
)


generator = piepline('text-generation')
generator("In this course, we will teach you how to")


generator = piepline('text-generation', model="distilgpt2")
generator("In this course, we will teach you how to", max_length=30, num_return_sequences=2) # no. of words and no. of like generated texts


unmasker = pipeline('fill-mask')
unmasker('This course will teach you all about <mask> modoels', top_k=2)


ner = peipeline('ner', grouped_entites=True)
ner("My name is Sylavin and I work at Hugging Face in Brookyln")


question_answerer = pipeline("question-answering")
question_answerer(question="Where do I work?", context="My name is Sylavin and I work at Hugging Face in Brooklyn")


summarizer = pipeline("summarization")
summarizer("A critical phase in Roman history was the Punic Wars against Carthage (264–146 BC). The First Punic War (264–241 BC) established Rome as a naval power, while the Second Punic War (218–201 BC) saw the rise of Hannibal, whose daring crossing of the Alps remains legendary. Despite early Carthaginian victories, Rome eventually triumphed, culminating in the Third Punic War (149–146 BC), which led to the complete destruction of Carthage.")


translator = pipeline("translation", model="Helsinki-NLP/opus-mt-fr-en")
translator("Ce cours est produit par Hugging Face")






